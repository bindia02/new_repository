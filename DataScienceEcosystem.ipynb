{
 "cells": [
  {
   "cell_type": "markdown",
   "id": "9a68a459",
   "metadata": {},
   "source": [
    "# Data Science Tools and Ecosystem\n"
   ]
  },
  {
   "cell_type": "markdown",
   "id": "3ac59fcb",
   "metadata": {},
   "source": [
    "In this notebook, we will provide an overview and summary of the Data Science Tools and Ecosystem."
   ]
  },
  {
   "cell_type": "markdown",
   "id": "b4f62161",
   "metadata": {},
   "source": [
    "### Overview\n",
    "\n",
    "Some of the popular languages that Data Scientists use are:\n",
    "\n",
    "1. Python\n",
    "2. R\n",
    "3. SQL"
   ]
  },
  {
   "cell_type": "markdown",
   "id": "86304ebb",
   "metadata": {},
   "source": [
    "### Overview\n",
    "\n",
    "Some of the commonly used libraries used by Data Scientists include:\n",
    "\n",
    "1. Pandas\n",
    "2. NumPy\n",
    "3. Matplotlib"
   ]
  },
  {
   "cell_type": "markdown",
   "id": "6659ad82",
   "metadata": {},
   "source": [
    "### Data Science Tools\n",
    "\n",
    "| Data Science Tools    |\n",
    "|-----------------------|\n",
    "| Jupyter Notebook      |\n",
    "| RStudio               |\n",
    "| VS Code with Extensions|"
   ]
  },
  {
   "cell_type": "markdown",
   "id": "3306782d",
   "metadata": {},
   "source": [
    "### Evaluating Arithmetic Expressions in Python\n",
    "\n",
    "Below are a few examples of evaluating arithmetic expressions in Python."
   ]
  },
  {
   "cell_type": "code",
   "execution_count": 3,
   "id": "3d60e6dd",
   "metadata": {
    "scrolled": true
   },
   "outputs": [
    {
     "name": "stdout",
     "output_type": "stream",
     "text": [
      "17\n"
     ]
    }
   ],
   "source": [
    "# This is a simple arithmetic expression to multiply then add integers\n",
    "result = (3 * 4) + 5\n",
    "print(result)"
   ]
  },
  {
   "cell_type": "code",
   "execution_count": 4,
   "id": "82ce1f87",
   "metadata": {},
   "outputs": [
    {
     "name": "stdout",
     "output_type": "stream",
     "text": [
      "3.3333333333333335\n"
     ]
    }
   ],
   "source": [
    "# This will convert 200 minutes to hours by dividing by 60.\n",
    "hours = 200 / 60\n",
    "print(hours)"
   ]
  },
  {
   "cell_type": "markdown",
   "id": "09ffecfa",
   "metadata": {},
   "source": [
    "**Objectives:**\n",
    "\n",
    "- List popular languages for Data Science.\n",
    "- Introduction to Jupyter Notebooks.\n",
    "- jupyter Architecture.\n",
    "- Plotting in RStudio.\n",
    "- Introduction to GitHub."
   ]
  },
  {
   "cell_type": "markdown",
   "id": "7dfc407c",
   "metadata": {},
   "source": [
    "## Author\n",
    "\n",
    "Bindu Sharma"
   ]
  },
  {
   "cell_type": "code",
   "execution_count": null,
   "id": "0831dcf5",
   "metadata": {},
   "outputs": [],
   "source": []
  }
 ],
 "metadata": {
  "kernelspec": {
   "display_name": "Python 3 (ipykernel)",
   "language": "python",
   "name": "python3"
  },
  "language_info": {
   "codemirror_mode": {
    "name": "ipython",
    "version": 3
   },
   "file_extension": ".py",
   "mimetype": "text/x-python",
   "name": "python",
   "nbconvert_exporter": "python",
   "pygments_lexer": "ipython3",
   "version": "3.9.18"
  }
 },
 "nbformat": 4,
 "nbformat_minor": 5
}
